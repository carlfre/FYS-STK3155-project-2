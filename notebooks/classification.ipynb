{
 "cells": [
  {
   "cell_type": "markdown",
   "metadata": {},
   "source": [
    "# Performing classification analysis on Wisconsin breast cancer data set using neural networks"
   ]
  },
  {
   "cell_type": "markdown",
   "metadata": {},
   "source": [
    "In this notebook we will train a neural network on the Wisconsin breast cancer data set and TODO"
   ]
  },
  {
   "cell_type": "markdown",
   "metadata": {},
   "source": [
    "First, we are looking to uncover which modes and regularization parameters to use in our neural network:"
   ]
  },
  {
   "cell_type": "code",
   "execution_count": 24,
   "metadata": {},
   "outputs": [
    {
     "ename": "ImportError",
     "evalue": "cannot import name 'accuracy' from 'regression_tools' (c:\\Users\\leand\\FYS-STK\\FYS-STK3155-project-2\\regression_tools.py)",
     "output_type": "error",
     "traceback": [
      "\u001b[1;31m---------------------------------------------------------------------------\u001b[0m",
      "\u001b[1;31mImportError\u001b[0m                               Traceback (most recent call last)",
      "\u001b[1;32mc:\\Users\\leand\\FYS-STK\\FYS-STK3155-project-2\\notebooks\\classification.ipynb Cell 4\u001b[0m in \u001b[0;36m<module>\u001b[1;34m\u001b[0m\n\u001b[0;32m      <a href='vscode-notebook-cell:/c%3A/Users/leand/FYS-STK/FYS-STK3155-project-2/notebooks/classification.ipynb#X22sZmlsZQ%3D%3D?line=3'>4</a>\u001b[0m \u001b[39mfrom\u001b[39;00m \u001b[39mfeedforward_nn\u001b[39;00m \u001b[39mimport\u001b[39;00m NeuralNetwork\n\u001b[0;32m      <a href='vscode-notebook-cell:/c%3A/Users/leand/FYS-STK/FYS-STK3155-project-2/notebooks/classification.ipynb#X22sZmlsZQ%3D%3D?line=4'>5</a>\u001b[0m \u001b[39mfrom\u001b[39;00m \u001b[39mgradient_descent\u001b[39;00m \u001b[39mimport\u001b[39;00m GradientDescent\n\u001b[1;32m----> <a href='vscode-notebook-cell:/c%3A/Users/leand/FYS-STK/FYS-STK3155-project-2/notebooks/classification.ipynb#X22sZmlsZQ%3D%3D?line=5'>6</a>\u001b[0m \u001b[39mfrom\u001b[39;00m \u001b[39mregression_tools\u001b[39;00m \u001b[39mimport\u001b[39;00m accuracy\n\u001b[0;32m      <a href='vscode-notebook-cell:/c%3A/Users/leand/FYS-STK/FYS-STK3155-project-2/notebooks/classification.ipynb#X22sZmlsZQ%3D%3D?line=7'>8</a>\u001b[0m \u001b[39mfrom\u001b[39;00m \u001b[39msklearn\u001b[39;00m\u001b[39m.\u001b[39;00m\u001b[39mdatasets\u001b[39;00m \u001b[39mimport\u001b[39;00m load_breast_cancer \u001b[39mas\u001b[39;00m wbc\n\u001b[0;32m      <a href='vscode-notebook-cell:/c%3A/Users/leand/FYS-STK/FYS-STK3155-project-2/notebooks/classification.ipynb#X22sZmlsZQ%3D%3D?line=8'>9</a>\u001b[0m \u001b[39mfrom\u001b[39;00m \u001b[39msklearn\u001b[39;00m\u001b[39m.\u001b[39;00m\u001b[39mmodel_selection\u001b[39;00m \u001b[39mimport\u001b[39;00m train_test_split\n",
      "\u001b[1;31mImportError\u001b[0m: cannot import name 'accuracy' from 'regression_tools' (c:\\Users\\leand\\FYS-STK\\FYS-STK3155-project-2\\regression_tools.py)"
     ]
    }
   ],
   "source": [
    "import numpy as np\n",
    "import matplotlib.pyplot as plt\n",
    "\n",
    "from feedforward_nn import NeuralNetwork\n",
    "from gradient_descent import GradientDescent\n",
    "from regression_tools import accuracy\n",
    "\n",
    "from sklearn.datasets import load_breast_cancer as wbc\n",
    "from sklearn.model_selection import train_test_split\n",
    "from sklearn.preprocessing import MinMaxScaler"
   ]
  },
  {
   "cell_type": "code",
   "execution_count": 12,
   "metadata": {},
   "outputs": [],
   "source": [
    "# Load data\n",
    "data = wbc()\n",
    "X = data.data\n",
    "y = data.target\n",
    "\n",
    "# Split data into training and test sets\n",
    "X_train, X_test, z_train, z_test = train_test_split(X, y, test_size=0.2)\n",
    "X_train, X_val, z_train, z_val = train_test_split(X_train, z_train, test_size=0.2)\n",
    "n = X_train.shape[1]\n",
    "\n",
    "# Use minimax to scale data\n",
    "scaler = MinMaxScaler()\n",
    "X_train = scaler.fit_transform(X_train)\n",
    "X_val = scaler.transform(X_val)\n",
    "X_test = scaler.transform(X_test)\n"
   ]
  },
  {
   "cell_type": "code",
   "execution_count": 13,
   "metadata": {},
   "outputs": [],
   "source": [
    "def optimal_reg_neural_network(X_train, \n",
    "                               z_train, \n",
    "                               X_val, \n",
    "                               z_val, \n",
    "                               layers, \n",
    "                               regularizationrange, \n",
    "                               momentum=0,\n",
    "                               avg_num = 10,\n",
    "                               optmode=\"normal\", \n",
    "                               max_iter=200, \n",
    "                               eta=0.01,\n",
    "                               activation=\"sigmoid\",\n",
    "                               output_activation=\"sigmoid\",\n",
    "                               ):\n",
    "    \"\"\"Returns the optimal regularization parameter for a neural network with the given parameters, taking the average over avg_num runs.\"\"\"\n",
    "    accuracy_val = []\n",
    "    for reg in regularizationrange:\n",
    "        # Average over avg_num runs\n",
    "        acc = 0\n",
    "        for _ in range(avg_num):\n",
    "            nn = NeuralNetwork(layers, activation=activation, output_activation=output_activation, regularization=reg)\n",
    "            w0 = nn.wb()\n",
    "            batch_size = 16\n",
    "            store_extra = True\n",
    "\n",
    "            gd = GradientDescent(batch_size=batch_size, momentum_param=momentum, store_extra=store_extra, mode=optmode)\n",
    "            w = gd.train(X_train, w0, z_train, nn, eta, max_iter)\n",
    "            z_pred = np.around(nn.predict(X_val, w).flatten())\n",
    "            acc += accuracy(z_pred, z_val)\n",
    "        acc /= avg_num\n",
    "        accuracy_val.append(acc)\n",
    "    # Return best regularization parameter, corresponding accuracy and accuracy_val\n",
    "    return regularizationrange[np.argmax(accuracy_val)], np.max(accuracy_val), accuracy_val\n",
    "    "
   ]
  },
  {
   "cell_type": "markdown",
   "metadata": {},
   "source": []
  },
  {
   "cell_type": "code",
   "execution_count": null,
   "metadata": {},
   "outputs": [],
   "source": []
  },
  {
   "cell_type": "code",
   "execution_count": 95,
   "metadata": {},
   "outputs": [
    {
     "name": "stdout",
     "output_type": "stream",
     "text": [
      "Activation: linear\n",
      "Activation: sigmoid\n",
      "Activation: relu\n",
      "Activation: leaky_relu\n"
     ]
    }
   ],
   "source": [
    "# Perform grid search on regularization for each activation function\n",
    "activations = [\"linear\", \"sigmoid\", \"relu\", \"leaky_relu\"]\n",
    "best_lam = []\n",
    "best_acc = []\n",
    "accuracy_val = []\n",
    "for activation in activations:\n",
    "    print(f\"Activation: {activation}\")\n",
    "    lambdas = np.logspace(-6, 3, 10)\n",
    "    best_lam_mode, best_acc_mode, accuracy_val_mode = optimal_reg_neural_network(X_train, z_train, X_val, z_val, [n, 20, 10, 1], lambdas, optmode=\"normal\", avg_num=30, max_iter=100, eta=0.01, activation=activation)\n",
    "    best_lam.append(best_lam_mode)\n",
    "    best_acc.append(best_acc_mode)\n",
    "    accuracy_val.append(accuracy_val_mode)\n"
   ]
  },
  {
   "cell_type": "code",
   "execution_count": 96,
   "metadata": {},
   "outputs": [
    {
     "data": {
      "image/png": "[encoded data removed]",
      "text/plain": [
       "<Figure size 432x288 with 1 Axes>"
      ]
     },
     "metadata": {
      "needs_background": "light"
     },
     "output_type": "display_data"
    }
   ],
   "source": [
    "# Plot accuracy vs. regularization parameter for each activation function\n",
    "for i in range(len(activations)):\n",
    "    plt.semilogx(lambdas, accuracy_val[i], label=activations[i])\n",
    "    plt.xlabel(\"Lambda\")\n",
    "    plt.ylabel(\"Accuracy\")\n",
    "    plt.legend()\n",
    "plt.show()\n",
    "\n"
   ]
  },
  {
   "cell_type": "code",
   "execution_count": 66,
   "metadata": {},
   "outputs": [
    {
     "name": "stdout",
     "output_type": "stream",
     "text": [
      "Mode: normal\n"
     ]
    },
    {
     "name": "stderr",
     "output_type": "stream",
     "text": [
      "c:\\Users\\leand\\FYS-STK\\FYS-STK3155-project-2\\feedforward_nn.py:70: RuntimeWarning: overflow encountered in exp\n",
      "  return 1 / (1 + np.exp(-z))\n"
     ]
    },
    {
     "name": "stdout",
     "output_type": "stream",
     "text": [
      "Mode: adagrad\n"
     ]
    },
    {
     "name": "stderr",
     "output_type": "stream",
     "text": [
      "c:\\Users\\leand\\FYS-STK\\FYS-STK3155-project-2\\gradient_descent.py:138: RuntimeWarning: divide by zero encountered in true_divide\n",
      "  return self.eta / np.sqrt(self.G)\n",
      "c:\\Users\\leand\\FYS-STK\\FYS-STK3155-project-2\\gradient_descent.py:108: RuntimeWarning: invalid value encountered in multiply\n",
      "  return self.momentum * self.momentum_param - eta * model.gradient(X, w, y)\n"
     ]
    },
    {
     "name": "stdout",
     "output_type": "stream",
     "text": [
      "Mode: rmsprop\n",
      "Mode: adam\n"
     ]
    }
   ],
   "source": [
    "\n",
    "# Grid search on regularization parameter for each mode - low resolution, as we only want to find the best mode\n",
    "modes = [\"normal\", \"adagrad\", \"rmsprop\", \"adam\"]\n",
    "best_lam = []\n",
    "best_acc = []\n",
    "accuracy_val = []\n",
    "for mode in modes:\n",
    "    print(f\"Mode: {mode}\")\n",
    "    lambdas = np.logspace(-10, 0, 10)\n",
    "    # TODO: Fix adagrad\n",
    "    if mode==\"adagrad\":\n",
    "        best_lam_mode, best_acc_mode, accuracy_val_mode = optimal_reg_neural_network(X_train, z_train, X_val, z_val, [n, 20, 10, 1], lambdas, momentum=0.8, optmode=mode, avg_num=40, max_iter=80, eta=10)\n",
    "    else:\n",
    "        best_lam_mode, best_acc_mode, accuracy_val_mode = optimal_reg_neural_network(X_train, z_train, X_val, z_val, [n, 20, 10, 1], lambdas, optmode=mode, avg_num=40, max_iter=80, eta=0.01)\n",
    "    best_lam.append(best_lam_mode)\n",
    "    best_acc.append(best_acc_mode)\n",
    "    accuracy_val.append(accuracy_val_mode)\n"
   ]
  },
  {
   "cell_type": "code",
   "execution_count": 67,
   "metadata": {},
   "outputs": [
    {
     "data": {
      "image/png": "[encoded data removed]",
      "text/plain": [
       "<Figure size 432x288 with 1 Axes>"
      ]
     },
     "metadata": {
      "needs_background": "light"
     },
     "output_type": "display_data"
    },
    {
     "name": "stdout",
     "output_type": "stream",
     "text": [
      "Mode\tBest lambda\tAccuracy\n",
      "normal\t3.59e-05\t0.70\n",
      "adagrad\t1.00e-10\t0.00\n",
      "rmsprop\t1.00e+00\t0.86\n",
      "adam\t1.67e-08\t0.81\n"
     ]
    }
   ],
   "source": [
    "# Plot accuracy vs. regularization parameter for each mode\n",
    "for i in range(len(modes)):\n",
    "    plt.semilogx(lambdas, accuracy_val[i], label=modes[i])\n",
    "    plt.xlabel(\"Lambda\")\n",
    "    plt.ylabel(\"Accuracy\")\n",
    "    plt.legend()\n",
    "plt.show()\n",
    "\n",
    "# Print best regularization parameter for each mode as a table\n",
    "print(\"Mode\\tBest lambda\\tAccuracy\")\n",
    "for i in range(len(modes)):\n",
    "    print(f\"{modes[i]}\\t{best_lam[i]:.2e}\\t{best_acc[i]:.2f}\")"
   ]
  },
  {
   "cell_type": "markdown",
   "metadata": {},
   "source": [
    "We see that rmsprop consistently outperforms the other modes, and choose this mode in our further analysis."
   ]
  },
  {
   "cell_type": "markdown",
   "metadata": {},
   "source": [
    "We now want to explore different activation functions for hidden layers."
   ]
  },
  {
   "cell_type": "markdown",
   "metadata": {},
   "source": [
    "Shocking. We see that sigmoid does better for most regularization parameters, until this parameter reaches high enough values. It appears linear og leaky_relu performs better here. We thus choose leaky_relu in our further analysis, and note that the regularization range we here need to consider seems to be from around 1e-2 to 1e3"
   ]
  },
  {
   "cell_type": "code",
   "execution_count": 100,
   "metadata": {},
   "outputs": [],
   "source": [
    "def optimal_lr_neural_network(X_train,\n",
    "                              z_train,\n",
    "                              X_val,\n",
    "                              z_val,\n",
    "                              layers,\n",
    "                              regularization,\n",
    "                              lrrange,\n",
    "                              momentum=0,\n",
    "                              avg_num=10,\n",
    "                              optmode=\"normal\",\n",
    "                              max_iter=200,\n",
    "                              activation=\"sigmoid\",\n",
    "                              output_activation=\"sigmoid\",\n",
    "                              eta=0.01\n",
    "                              ):\n",
    "    \"\"\"Returns the optimal learning rate for a neural network with the given parameters, taking the average over avg_num runs.\"\"\"\n",
    "    accuracy_val = []\n",
    "    for lr in lrrange:\n",
    "        # Average over avg_num runs\n",
    "        acc = 0\n",
    "        for _ in range(avg_num):\n",
    "            nn = NeuralNetwork(layers, activation=activation, output_activation=output_activation, regularization=regularization)\n",
    "            w0 = nn.wb()\n",
    "            batch_size = 16\n",
    "            store_extra = True\n",
    "\n",
    "            gd = GradientDescent(batch_size=batch_size, momentum_param=momentum, store_extra=store_extra, mode=optmode)\n",
    "            w = gd.train(X_train, w0, z_train, nn, lr, max_iter)\n",
    "            z_pred = np.around(nn.predict(X_val, w).flatten())\n",
    "            acc += accuracy(z_pred, z_val)\n",
    "        acc /= avg_num\n",
    "        accuracy_val.append(acc)\n",
    "    # Return best learning rate, corresponding accuracy and accuracy_val\n",
    "    return lrrange[np.argmax(accuracy_val)], np.max(accuracy_val), accuracy_val"
   ]
  },
  {
   "cell_type": "code",
   "execution_count": 102,
   "metadata": {},
   "outputs": [
    {
     "name": "stderr",
     "output_type": "stream",
     "text": [
      "c:\\Users\\leand\\FYS-STK\\FYS-STK3155-project-2\\feedforward_nn.py:70: RuntimeWarning: overflow encountered in exp\n",
      "  return 1 / (1 + np.exp(-z))\n"
     ]
    }
   ],
   "source": [
    "# Perform grid search on learning rate for rmsprop\n",
    "# TODO: Must be done for much higher iterations\n",
    "lrrange = np.logspace(-5, 0, 10)\n",
    "best_lr, best_acc, accuracy_val = optimal_lr_neural_network(X_train, z_train, X_val, z_val, [n, 20, 10, 1], 1, lrrange, optmode=\"rmsprop\", avg_num=40, max_iter=80, eta=0.01, activation=\"leaky_relu\")\n"
   ]
  },
  {
   "cell_type": "code",
   "execution_count": 103,
   "metadata": {},
   "outputs": [
    {
     "data": {
      "image/png": "[encoded data removed]",
      "text/plain": [
       "<Figure size 432x288 with 1 Axes>"
      ]
     },
     "metadata": {
      "needs_background": "light"
     },
     "output_type": "display_data"
    },
    {
     "name": "stdout",
     "output_type": "stream",
     "text": [
      "Best learning rate: 5.99e-03\n"
     ]
    }
   ],
   "source": [
    "# Plot accuracy vs. learning rate for rmsprop\n",
    "plt.semilogx(lrrange, accuracy_val)\n",
    "plt.xlabel(\"Learning rate\")\n",
    "plt.ylabel(\"Accuracy\")\n",
    "plt.show()\n",
    "\n",
    "# Print best learning rate for rmsprop\n",
    "print(f\"Best learning rate: {best_lr:.2e}\")"
   ]
  },
  {
   "cell_type": "markdown",
   "metadata": {},
   "source": [
    "We see that the optimal accuracy is reached with a learning rate of around 0.006, and will use this going forward."
   ]
  },
  {
   "cell_type": "markdown",
   "metadata": {},
   "source": [
    "We will now find the optimal regularization parameter, with these previous parameters, for different neural network structures - that is, different amounts of layers, and different amounts of nodes in these layers."
   ]
  },
  {
   "cell_type": "code",
   "execution_count": 15,
   "metadata": {},
   "outputs": [
    {
     "name": "stdout",
     "output_type": "stream",
     "text": [
      "Neural network structure: [30, 20, 15, 10, 5, 1]\n"
     ]
    },
    {
     "name": "stderr",
     "output_type": "stream",
     "text": [
      "c:\\Users\\leand\\FYS-STK\\FYS-STK3155-project-2\\feedforward_nn.py:70: RuntimeWarning: overflow encountered in exp\n",
      "  return 1 / (1 + np.exp(-z))\n"
     ]
    },
    {
     "name": "stdout",
     "output_type": "stream",
     "text": [
      "Neural network structure: [30, 20, 10, 1]\n",
      "Neural network structure: [30, 5, 4, 3, 2, 1]\n",
      "Neural network structure: [30, 10, 5, 1]\n"
     ]
    }
   ],
   "source": [
    "nn_structures = [\n",
    "    [n, 20, 15, 10, 5, 1],\n",
    "    [n, 20, 10, 1],\n",
    "    [n, 5, 4, 3, 2, 1],\n",
    "    [n, 10, 5, 1]\n",
    "]\n",
    "\n",
    "nn_best_lambda = []\n",
    "nn_best_acc = []\n",
    "nn_accuracy_vals = []\n",
    "\n",
    "# Perform grid search on regulariszation for rmsprop with leaky relu, learning rate 0.006 and regularization between 0.01 and 1000\n",
    "lambdas = np.logspace(-2, 3, 25)\n",
    "for nn in nn_structures:\n",
    "    print(f\"Neural network structure: {nn}\")\n",
    "    best_lam, best_acc, accuracy_val = optimal_reg_neural_network(X_train, z_train, X_val, z_val, nn, lambdas, optmode=\"rmsprop\", avg_num=30, max_iter=100, eta=0.006, activation=\"leaky_relu\")\n",
    "    nn_best_lambda.append(best_lam)\n",
    "    nn_best_acc.append(best_acc)\n",
    "    nn_accuracy_vals.append(accuracy_val)\n",
    "    # Save to file notebooks/NNcancer_gridsearch.txt\n",
    "    with open(\"notebooks/NNcancer_gridsearch.txt\", \"a\") as f:\n",
    "        # Add space\n",
    "        f.write(\"\\n\\n\")\n",
    "        f.write(f\"Neural network structure: {nn}\\n\")\n",
    "        f.write(f\"Lamdas: {lambdas}\\n\")\n",
    "        f.write(f\"Best lambda: {best_lam}\\n\")\n",
    "        f.write(f\"Best accuracy: {best_acc}\\n\")\n",
    "        f.write(f\"Accuracy values: {accuracy_val}\\n\\n\")\n"
   ]
  },
  {
   "cell_type": "code",
   "execution_count": 16,
   "metadata": {},
   "outputs": [
    {
     "data": {
      "image/png": "[encoded data removed]",
      "text/plain": [
       "<Figure size 432x288 with 1 Axes>"
      ]
     },
     "metadata": {
      "needs_background": "light"
     },
     "output_type": "display_data"
    }
   ],
   "source": [
    "# Plot accuracy vs. regularization parameter for each neural network structure\n",
    "for i in range(len(nn_structures)):\n",
    "    plt.semilogx(lambdas, nn_accuracy_vals[i], label=nn_structures[i])\n",
    "    plt.xlabel(\"Lambda\")\n",
    "    plt.ylabel(\"Accuracy\")\n",
    "    plt.legend()\n",
    "plt.show()"
   ]
  },
  {
   "cell_type": "code",
   "execution_count": 17,
   "metadata": {},
   "outputs": [
    {
     "name": "stdout",
     "output_type": "stream",
     "text": [
      "Neural network structure\tBest lambda\tAccuracy\n",
      "[30, 20, 15, 10, 5, 1]\t1.00e-02\t0.93\n",
      "[30, 20, 10, 1]\t1.78e-01\t0.91\n",
      "[30, 5, 4, 3, 2, 1]\t1.00e-02\t0.93\n",
      "[30, 10, 5, 1]\t1.00e-02\t0.92\n"
     ]
    }
   ],
   "source": [
    "# Print best regularization parameter for each neural network structure as a table\n",
    "print(\"Neural network structure\\tBest lambda\\tAccuracy\")\n",
    "for i in range(len(nn_structures)):\n",
    "    print(f\"{nn_structures[i]}\\t{nn_best_lambda[i]:.2e}\\t{nn_best_acc[i]:.2f}\")\n"
   ]
  },
  {
   "cell_type": "code",
   "execution_count": 20,
   "metadata": {},
   "outputs": [
    {
     "name": "stdout",
     "output_type": "stream",
     "text": [
      "Best model: [30, 5, 4, 3, 2, 1]\n",
      "Accuracy: 0.8804093567251462\n"
     ]
    }
   ],
   "source": [
    "# Find best model by applying the previous results to the test set\n",
    "acc_arr = []\n",
    "for reg, nn_struc in zip(nn_best_lambda, nn_structures):\n",
    "    # Average accuracy over 30 runs\n",
    "    acc = 0\n",
    "    for _ in range(30):\n",
    "        nn = NeuralNetwork(nn_struc, activation=\"leaky_relu\", output_activation=\"sigmoid\", regularization=reg)\n",
    "        w0 = nn.wb()\n",
    "        batch_size = 16\n",
    "        store_extra = True\n",
    "\n",
    "        gd = GradientDescent(batch_size=batch_size, momentum_param=0, store_extra=store_extra, mode=\"rmsprop\")\n",
    "        w = gd.train(X_train, w0, z_train, nn, 0.006, 100)\n",
    "        z_pred = np.around(nn.predict(X_test, w).flatten())\n",
    "        acc += accuracy(z_pred, z_test)\n",
    "    acc /= 30\n",
    "    acc_arr.append(acc)\n",
    "\n",
    "# Print best model\n",
    "print(f\"Best model: {nn_structures[np.argmax(acc_arr)]}\")\n",
    "print(f\"Accuracy: {np.max(acc_arr)}\")"
   ]
  },
  {
   "cell_type": "markdown",
   "metadata": {},
   "source": [
    "### Comparison with Scikit-learn"
   ]
  },
  {
   "cell_type": "markdown",
   "metadata": {},
   "source": [
    "We will now compare our results with those we get with sklearn."
   ]
  },
  {
   "cell_type": "code",
   "execution_count": 23,
   "metadata": {},
   "outputs": [
    {
     "name": "stdout",
     "output_type": "stream",
     "text": [
      "Accuracy: 0.9210526315789473\n"
     ]
    },
    {
     "name": "stderr",
     "output_type": "stream",
     "text": [
      "c:\\Users\\leand\\AppData\\Local\\Programs\\Python\\Python38-32\\lib\\sklearn\\linear_model\\_logistic.py:814: ConvergenceWarning: lbfgs failed to converge (status=1):\n",
      "STOP: TOTAL NO. of ITERATIONS REACHED LIMIT.\n",
      "\n",
      "Increase the number of iterations (max_iter) or scale the data as shown in:\n",
      "    https://scikit-learn.org/stable/modules/preprocessing.html\n",
      "Please also refer to the documentation for alternative solver options:\n",
      "    https://scikit-learn.org/stable/modules/linear_model.html#logistic-regression\n",
      "  n_iter_i = _check_optimize_result(\n"
     ]
    }
   ],
   "source": [
    "from sklearn.linear_model import LogisticRegression\n",
    "from sklearn.metrics import accuracy_score\n",
    "\n",
    "# Train logistic regression model\n",
    "lr = LogisticRegression()\n",
    "lr.fit(X_train, z_train)\n",
    "\n",
    "# Predict on test set\n",
    "z_pred = lr.predict(X_test)\n",
    "\n",
    "# Print accuracy\n",
    "print(f\"Accuracy: {accuracy_score(z_test, z_pred)}\")\n"
   ]
  },
  {
   "cell_type": "code",
   "execution_count": null,
   "metadata": {},
   "outputs": [],
   "source": []
  }
 ],
 "metadata": {
  "kernelspec": {
   "display_name": "Python 3.8.10 64-bit",
   "language": "python",
   "name": "python3"
  },
  "language_info": {
   "codemirror_mode": {
    "name": "ipython",
    "version": 3
   },
   "file_extension": ".py",
   "mimetype": "text/x-python",
   "name": "python",
   "nbconvert_exporter": "python",
   "pygments_lexer": "ipython3",
   "version": "3.8.10"
  },
  "orig_nbformat": 4,
  "vscode": {
   "interpreter": {
    "hash": "e0bcd3d39e2b0d2bcb7e5b5a8ab013b8440450c3ee714dd347ea2524e3e0a92a"
   }
  }
 },
 "nbformat": 4,
 "nbformat_minor": 2
}
