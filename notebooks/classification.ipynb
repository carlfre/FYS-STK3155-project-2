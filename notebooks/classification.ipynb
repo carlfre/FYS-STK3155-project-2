{
 "cells": [
  {
   "cell_type": "markdown",
   "metadata": {},
   "source": [
    "# Performing classification analysis on Wisconsin breast cancer data set using neural networks"
   ]
  },
  {
   "cell_type": "markdown",
   "metadata": {},
   "source": [
    "In this notebook we will train a neural network on the Wisconsin breast cancer data set and TODO"
   ]
  },
  {
   "cell_type": "code",
   "execution_count": 4,
   "metadata": {},
   "outputs": [],
   "source": [
    "import numpy as np\n",
    "import matplotlib.pyplot as plt\n",
    "\n",
    "from feedforward_nn import NeuralNetwork\n",
    "from gradient_descent import GradientDescent\n",
    "from regression_tools import accuracy\n",
    "\n",
    "from sklearn.datasets import load_breast_cancer as wbc\n",
    "from sklearn.model_selection import train_test_split"
   ]
  },
  {
   "cell_type": "code",
   "execution_count": 5,
   "metadata": {},
   "outputs": [],
   "source": [
    "# Load data\n",
    "data = wbc()\n",
    "X = data.data\n",
    "y = data.target\n",
    "\n",
    "# Split data into training and test sets\n",
    "X_train, X_test, z_train, z_test = train_test_split(X, y, test_size=0.2)\n",
    "n = X_train.shape[1]\n"
   ]
  },
  {
   "cell_type": "code",
   "execution_count": 34,
   "metadata": {},
   "outputs": [],
   "source": [
    "def gradient_descent_execution(X, w0, z, model, mode=\"normal\", max_iter = 200, eta = 0.01):\n",
    "    batch_size = 10\n",
    "    store_extra = True\n",
    "\n",
    "    gd = GradientDescent(batch_size=batch_size, store_extra=store_extra, mode=mode)\n",
    "    w = gd.train(X, w0, z, model, eta, max_iter)\n",
    "    return w, gd\n"
   ]
  },
  {
   "cell_type": "code",
   "execution_count": null,
   "metadata": {},
   "outputs": [],
   "source": [
    "# Train neural network\n",
    "\n",
    "layers = [n, 20, 10, 1]\n",
    "nn = NeuralNetwork(layers, activation=\"sigmoid\", output_activation=\"sigmoid\", regularization=0.07)\n",
    "w0 = nn.wb()\n",
    "\n",
    "w, gd = gradient_descent_execution(X_train, w0, z_train, nn, max_iter=200, eta=0.01)\n",
    "print(\"Train cost:\", gd.costs[-1])\n",
    "print(\"Test cost:\", nn.cost(X_test, w, z_test))"
   ]
  },
  {
   "cell_type": "code",
   "execution_count": 16,
   "metadata": {},
   "outputs": [
    {
     "name": "stdout",
     "output_type": "stream",
     "text": [
      "Test accuracy: 0.868421052631579\n",
      "Predicted: [1. 1. 1. 0. 1. 0. 0. 1. 1. 1. 1. 1. 1. 0. 0. 0. 0. 0. 1. 1. 1. 0. 1. 1.\n",
      " 1. 1. 1. 1. 1. 1. 1. 1. 1. 1. 1. 1. 1. 0. 1. 0. 1. 1. 0. 1. 1. 1. 1. 1.\n",
      " 0. 1. 1. 1. 0. 1. 0. 0. 1. 1. 0. 0. 1. 1. 1. 1. 1. 1. 1. 1. 1. 0. 1. 1.\n",
      " 0. 1. 0. 0. 1. 1. 1. 0. 1. 0. 1. 0. 0. 1. 0. 1. 0. 1. 1. 0. 1. 1. 1. 1.\n",
      " 1. 1. 1. 1. 1. 0. 1. 1. 0. 1. 0. 1. 1. 0. 1. 1. 1. 1.]\n",
      "Actual: [1 1 1 0 1 0 0 1 1 1 1 0 1 0 1 0 1 0 1 1 1 0 1 1 1 1 0 1 1 1 0 1 1 1 1 1 1\n",
      " 0 1 0 0 1 0 1 1 1 1 1 0 1 1 1 1 0 0 0 1 1 0 0 1 1 1 1 1 1 1 1 1 0 1 0 1 1\n",
      " 0 0 1 0 1 0 0 0 0 0 0 1 0 1 0 1 0 0 1 1 1 1 1 1 1 1 1 0 1 1 0 1 0 1 1 0 1\n",
      " 1 1 0]\n"
     ]
    }
   ],
   "source": [
    "# Test accuracy\n",
    "z_pred = np.around(nn.predict(X_test, w).flatten())\n",
    "print(\"Test accuracy:\", accuracy(z_pred, z_test))\n",
    "print(\"Predicted:\", z_pred)\n",
    "print(\"Actual:\", z_test)"
   ]
  },
  {
   "cell_type": "markdown",
   "metadata": {},
   "source": [
    "We test the distribution of local minima by "
   ]
  },
  {
   "cell_type": "code",
   "execution_count": 17,
   "metadata": {},
   "outputs": [],
   "source": [
    "# This code snippet takes ~11 minutes to run with T = 100 and max_iter = 200\n",
    "costs = []\n",
    "T = 100\n",
    "for _ in range(T):\n",
    "    layers = [n, 20, 10, 1]\n",
    "    nn = NeuralNetwork(layers, activation=\"sigmoid\", output_activation=\"sigmoid\", regularization=0.07)\n",
    "    w0 = nn.wb()\n",
    "\n",
    "    w, gd = gradient_descent_execution(X_train, w0, z_train, nn, max_iter=200, eta=0.01)\n",
    "    costs.append(gd.costs[-1])"
   ]
  },
  {
   "cell_type": "code",
   "execution_count": 18,
   "metadata": {},
   "outputs": [
    {
     "data": {
      "image/png": "[encoded data removed]",
      "text/plain": [
       "<Figure size 432x288 with 1 Axes>"
      ]
     },
     "metadata": {
      "needs_background": "light"
     },
     "output_type": "display_data"
    }
   ],
   "source": [
    "plt.hist(costs, bins=200)\n",
    "plt.show()"
   ]
  },
  {
   "cell_type": "markdown",
   "metadata": {},
   "source": [
    "We perform a gridsearch on the regularization parameter to find the best value. We use the test set to evaluate the performance of the model."
   ]
  },
  {
   "cell_type": "code",
   "execution_count": 38,
   "metadata": {},
   "outputs": [],
   "source": [
    "def grid_search_nn_lambdas(lambdas, avg_num, optmode=\"normal\", max_iter=200, eta=0.01, progressbar = False, save=None):\n",
    "    # This takes ~40 minute to run with 40 lambdas, avg_num = 10 and max_iter = 200\n",
    "    # Grid search on regularization parameter\n",
    "    costs_lam = []\n",
    "    progress = 0\n",
    "\n",
    "    for l in lambdas:\n",
    "        if progressbar:\n",
    "            progress += 1/len(lambdas)\n",
    "            print(f\"Progress: {100*progress:.2f}%\", end=\"\\r\")\n",
    "        # Average over avg_num runs\n",
    "        cost = 0\n",
    "        for _ in range(avg_num):\n",
    "            layers = [n, 20, 10, 1]\n",
    "            nn = NeuralNetwork(layers, activation=\"sigmoid\", output_activation=\"sigmoid\", regularization=l)\n",
    "            w0 = nn.wb()\n",
    "\n",
    "            w, gd = gradient_descent_execution(X_train, w0, z_train, nn, mode=optmode, max_iter=max_iter, eta=eta)\n",
    "            cost += gd.costs[-1]\n",
    "        cost /= avg_num\n",
    "        costs_lam.append(cost)\n",
    "    \n",
    "    if save is not None:\n",
    "        with open(\"Results/NNcancer_gridsearch.txt\", \"a\") as f:\n",
    "            # Create space\n",
    "            f.write(\"\\n\\n\")\n",
    "            f.write(f\"Best lambda: {lambdas[np.argmin(costs_lam)]}\")\n",
    "            # Save parameters\n",
    "            f.write(f\"Layers: {layers}, lambdas: {lambdas}, mode: {gd.mode}, avg_num: {avg_num}\")\n",
    "            # Save costs\n",
    "            f.write(f\"Costs: {costs_lam}\")\n",
    "    \n",
    "    return costs_lam, lambdas[np.argmin(costs_lam)]\n",
    "\n"
   ]
  },
  {
   "cell_type": "code",
   "execution_count": 39,
   "metadata": {},
   "outputs": [
    {
     "name": "stdout",
     "output_type": "stream",
     "text": [
      "Progress: 4.00%\r"
     ]
    },
    {
     "name": "stderr",
     "output_type": "stream",
     "text": [
      "c:\\Users\\leand\\FYS-STK\\FYS-STK3155-project-2\\feedforward_nn.py:70: RuntimeWarning: overflow encountered in exp\n",
      "  return 1 / (1 + np.exp(-z))\n"
     ]
    },
    {
     "name": "stdout",
     "output_type": "stream",
     "text": [
      "Progress: 100.00%\r"
     ]
    }
   ],
   "source": [
    "lambdas = np.logspace(-6, 0, 25)\n",
    "costs_lam, best_lam = grid_search_nn_lambdas(lambdas, avg_num=40, optmode=\"rmsprop\", max_iter=100, eta=0.01, progressbar=True, save=\"Results/NNcancer_gridsearch.txt\")"
   ]
  },
  {
   "cell_type": "code",
   "execution_count": 42,
   "metadata": {},
   "outputs": [
    {
     "data": {
      "image/png": "[encoded data removed]",
      "text/plain": [
       "<Figure size 432x288 with 1 Axes>"
      ]
     },
     "metadata": {
      "needs_background": "light"
     },
     "output_type": "display_data"
    },
    {
     "name": "stdout",
     "output_type": "stream",
     "text": [
      "Best lambda: 0.01\n",
      "[1.00000000e-06 1.77827941e-06 3.16227766e-06 5.62341325e-06\n",
      " 1.00000000e-05 1.77827941e-05 3.16227766e-05 5.62341325e-05\n",
      " 1.00000000e-04 1.77827941e-04 3.16227766e-04 5.62341325e-04\n",
      " 1.00000000e-03 1.77827941e-03 3.16227766e-03 5.62341325e-03\n",
      " 1.00000000e-02 1.77827941e-02 3.16227766e-02 5.62341325e-02\n",
      " 1.00000000e-01 1.77827941e-01 3.16227766e-01 5.62341325e-01\n",
      " 1.00000000e+00]\n"
     ]
    }
   ],
   "source": [
    "plt.semilogx(lambdas, costs_lam)\n",
    "plt.xlabel(\"Lambda\")\n",
    "plt.ylabel(\"Cost\")\n",
    "plt.show()\n",
    "# Print best lambda\n",
    "print(\"Best lambda:\", best_lam)\n",
    "print(lambdas)\n"
   ]
  },
  {
   "cell_type": "markdown",
   "metadata": {},
   "source": [
    "# Task d)"
   ]
  },
  {
   "cell_type": "markdown",
   "metadata": {},
   "source": [
    "First, we are looking to uncover which modes and regularization parameters to use in our neural network:"
   ]
  },
  {
   "cell_type": "code",
   "execution_count": 43,
   "metadata": {},
   "outputs": [],
   "source": [
    "import numpy as np\n",
    "import matplotlib.pyplot as plt\n",
    "\n",
    "from feedforward_nn import NeuralNetwork\n",
    "from gradient_descent import GradientDescent\n",
    "from regression_tools import accuracy\n",
    "\n",
    "from sklearn.datasets import load_breast_cancer as wbc\n",
    "from sklearn.model_selection import train_test_split"
   ]
  },
  {
   "cell_type": "code",
   "execution_count": 45,
   "metadata": {},
   "outputs": [],
   "source": [
    "# Load data\n",
    "data = wbc()\n",
    "X = data.data\n",
    "y = data.target\n",
    "\n",
    "# Split data into training and test sets\n",
    "X_train, X_test, z_train, z_test = train_test_split(X, y, test_size=0.2)\n",
    "X_train, X_val, z_train, z_val = train_test_split(X_train, z_train, test_size=0.2)\n",
    "n = X_train.shape[1]"
   ]
  },
  {
   "cell_type": "code",
   "execution_count": 93,
   "metadata": {},
   "outputs": [],
   "source": [
    "def optimal_reg_neural_network(X_train, \n",
    "                               z_train, \n",
    "                               X_val, \n",
    "                               z_val, \n",
    "                               layers, \n",
    "                               regularizationrange, \n",
    "                               momentum=0,\n",
    "                               avg_num = 10,\n",
    "                               optmode=\"normal\", \n",
    "                               max_iter=200, \n",
    "                               eta=0.01,\n",
    "                               activation=\"sigmoid\",\n",
    "                               output_activation=\"sigmoid\",\n",
    "                               ):\n",
    "    \"\"\"Returns the optimal regularization parameter for a neural network with the given parameters, taking the average over avg_num runs.\"\"\"\n",
    "    accuracy_val = []\n",
    "    for reg in regularizationrange:\n",
    "        # Average over avg_num runs\n",
    "        acc = 0\n",
    "        for _ in range(avg_num):\n",
    "            nn = NeuralNetwork(layers, activation=activation, output_activation=output_activation, regularization=reg)\n",
    "            w0 = nn.wb()\n",
    "            batch_size = 16\n",
    "            store_extra = True\n",
    "\n",
    "            gd = GradientDescent(batch_size=batch_size, momentum_param=momentum, store_extra=store_extra, mode=optmode)\n",
    "            w = gd.train(X_train, w0, z_train, nn, eta, max_iter)\n",
    "            z_pred = np.around(nn.predict(X_val, w).flatten())\n",
    "            acc += accuracy(z_pred, z_val)\n",
    "        acc /= avg_num\n",
    "        accuracy_val.append(acc)\n",
    "    # Return best regularization parameter, corresponding accuracy and accuracy_val\n",
    "    return regularizationrange[np.argmax(accuracy_val)], np.max(accuracy_val), accuracy_val\n",
    "    "
   ]
  },
  {
   "cell_type": "code",
   "execution_count": 66,
   "metadata": {},
   "outputs": [
    {
     "name": "stdout",
     "output_type": "stream",
     "text": [
      "Mode: normal\n"
     ]
    },
    {
     "name": "stderr",
     "output_type": "stream",
     "text": [
      "c:\\Users\\leand\\FYS-STK\\FYS-STK3155-project-2\\feedforward_nn.py:70: RuntimeWarning: overflow encountered in exp\n",
      "  return 1 / (1 + np.exp(-z))\n"
     ]
    },
    {
     "name": "stdout",
     "output_type": "stream",
     "text": [
      "Mode: adagrad\n"
     ]
    },
    {
     "name": "stderr",
     "output_type": "stream",
     "text": [
      "c:\\Users\\leand\\FYS-STK\\FYS-STK3155-project-2\\gradient_descent.py:138: RuntimeWarning: divide by zero encountered in true_divide\n",
      "  return self.eta / np.sqrt(self.G)\n",
      "c:\\Users\\leand\\FYS-STK\\FYS-STK3155-project-2\\gradient_descent.py:108: RuntimeWarning: invalid value encountered in multiply\n",
      "  return self.momentum * self.momentum_param - eta * model.gradient(X, w, y)\n"
     ]
    },
    {
     "name": "stdout",
     "output_type": "stream",
     "text": [
      "Mode: rmsprop\n",
      "Mode: adam\n"
     ]
    }
   ],
   "source": [
    "\n",
    "# Grid search on regularization parameter for each mode - low resolution, as we only want to find the best mode\n",
    "modes = [\"normal\", \"adagrad\", \"rmsprop\", \"adam\"]\n",
    "best_lam = []\n",
    "best_acc = []\n",
    "accuracy_val = []\n",
    "for mode in modes:\n",
    "    print(f\"Mode: {mode}\")\n",
    "    lambdas = np.logspace(-10, 0, 10)\n",
    "    # TODO: Fix adagrad\n",
    "    if mode==\"adagrad\":\n",
    "        best_lam_mode, best_acc_mode, accuracy_val_mode = optimal_reg_neural_network(X_train, z_train, X_val, z_val, [n, 20, 10, 1], lambdas, momentum=0.8, optmode=mode, avg_num=40, max_iter=80, eta=10)\n",
    "    else:\n",
    "        best_lam_mode, best_acc_mode, accuracy_val_mode = optimal_reg_neural_network(X_train, z_train, X_val, z_val, [n, 20, 10, 1], lambdas, optmode=mode, avg_num=40, max_iter=80, eta=0.01)\n",
    "    best_lam.append(best_lam_mode)\n",
    "    best_acc.append(best_acc_mode)\n",
    "    accuracy_val.append(accuracy_val_mode)\n"
   ]
  },
  {
   "cell_type": "code",
   "execution_count": 67,
   "metadata": {},
   "outputs": [
    {
     "data": {
      "image/png": "[encoded data removed]",
      "text/plain": [
       "<Figure size 432x288 with 1 Axes>"
      ]
     },
     "metadata": {
      "needs_background": "light"
     },
     "output_type": "display_data"
    },
    {
     "name": "stdout",
     "output_type": "stream",
     "text": [
      "Mode\tBest lambda\tAccuracy\n",
      "normal\t3.59e-05\t0.70\n",
      "adagrad\t1.00e-10\t0.00\n",
      "rmsprop\t1.00e+00\t0.86\n",
      "adam\t1.67e-08\t0.81\n"
     ]
    }
   ],
   "source": [
    "# Plot accuracy vs. regularization parameter for each mode\n",
    "for i in range(len(modes)):\n",
    "    plt.semilogx(lambdas, accuracy_val[i], label=modes[i])\n",
    "    plt.xlabel(\"Lambda\")\n",
    "    plt.ylabel(\"Accuracy\")\n",
    "    plt.legend()\n",
    "plt.show()\n",
    "\n",
    "# Print best regularization parameter for each mode as a table\n",
    "print(\"Mode\\tBest lambda\\tAccuracy\")\n",
    "for i in range(len(modes)):\n",
    "    print(f\"{modes[i]}\\t{best_lam[i]:.2e}\\t{best_acc[i]:.2f}\")"
   ]
  },
  {
   "cell_type": "markdown",
   "metadata": {},
   "source": [
    "We see that rmsprop consistently outperforms the other modes, and choose this mode in our further analysis."
   ]
  },
  {
   "cell_type": "markdown",
   "metadata": {},
   "source": [
    "We now want to explore different activation functions for hidden layers."
   ]
  },
  {
   "cell_type": "code",
   "execution_count": 95,
   "metadata": {},
   "outputs": [
    {
     "name": "stdout",
     "output_type": "stream",
     "text": [
      "Activation: linear\n",
      "Activation: sigmoid\n",
      "Activation: relu\n",
      "Activation: leaky_relu\n"
     ]
    }
   ],
   "source": [
    "# Perform grid search on regularization for each activation function\n",
    "activations = [\"linear\", \"sigmoid\", \"relu\", \"leaky_relu\"]\n",
    "best_lam = []\n",
    "best_acc = []\n",
    "accuracy_val = []\n",
    "for activation in activations:\n",
    "    print(f\"Activation: {activation}\")\n",
    "    lambdas = np.logspace(-6, 3, 10)\n",
    "    best_lam_mode, best_acc_mode, accuracy_val_mode = optimal_reg_neural_network(X_train, z_train, X_val, z_val, [n, 20, 10, 1], lambdas, optmode=\"rmsprop\", avg_num=40, max_iter=100, eta=0.01, activation=activation)\n",
    "    best_lam.append(best_lam_mode)\n",
    "    best_acc.append(best_acc_mode)\n",
    "    accuracy_val.append(accuracy_val_mode)\n"
   ]
  },
  {
   "cell_type": "code",
   "execution_count": 96,
   "metadata": {},
   "outputs": [
    {
     "data": {
      "image/png": "[encoded data removed]",
      "text/plain": [
       "<Figure size 432x288 with 1 Axes>"
      ]
     },
     "metadata": {
      "needs_background": "light"
     },
     "output_type": "display_data"
    }
   ],
   "source": [
    "# Plot accuracy vs. regularization parameter for each activation function\n",
    "for i in range(len(activations)):\n",
    "    plt.semilogx(lambdas, accuracy_val[i], label=activations[i])\n",
    "    plt.xlabel(\"Lambda\")\n",
    "    plt.ylabel(\"Accuracy\")\n",
    "    plt.legend()\n",
    "plt.show()\n",
    "\n"
   ]
  },
  {
   "cell_type": "markdown",
   "metadata": {},
   "source": [
    "Shocking. We see that sigmoid does better for most regularization parameters, until this parameter reaches high enough values. It appears linear og leaky_relu performs better here. We thus choose leaky_relu in our further analysis, and note that the regularization range we here need to consider seems to be from around 1e-1 to 1e3"
   ]
  },
  {
   "cell_type": "code",
   "execution_count": 100,
   "metadata": {},
   "outputs": [],
   "source": [
    "def optimal_lr_neural_network(X_train,\n",
    "                              z_train,\n",
    "                              X_val,\n",
    "                              z_val,\n",
    "                              layers,\n",
    "                              regularization,\n",
    "                              lrrange,\n",
    "                              momentum=0,\n",
    "                              avg_num=10,\n",
    "                              optmode=\"normal\",\n",
    "                              max_iter=200,\n",
    "                              activation=\"sigmoid\",\n",
    "                              output_activation=\"sigmoid\",\n",
    "                              eta=0.01\n",
    "                              ):\n",
    "    \"\"\"Returns the optimal learning rate for a neural network with the given parameters, taking the average over avg_num runs.\"\"\"\n",
    "    accuracy_val = []\n",
    "    for lr in lrrange:\n",
    "        # Average over avg_num runs\n",
    "        acc = 0\n",
    "        for _ in range(avg_num):\n",
    "            nn = NeuralNetwork(layers, activation=activation, output_activation=output_activation, regularization=regularization)\n",
    "            w0 = nn.wb()\n",
    "            batch_size = 16\n",
    "            store_extra = True\n",
    "\n",
    "            gd = GradientDescent(batch_size=batch_size, momentum_param=momentum, store_extra=store_extra, mode=optmode)\n",
    "            w = gd.train(X_train, w0, z_train, nn, lr, max_iter)\n",
    "            z_pred = np.around(nn.predict(X_val, w).flatten())\n",
    "            acc += accuracy(z_pred, z_val)\n",
    "        acc /= avg_num\n",
    "        accuracy_val.append(acc)\n",
    "    # Return best learning rate, corresponding accuracy and accuracy_val\n",
    "    return lrrange[np.argmax(accuracy_val)], np.max(accuracy_val), accuracy_val"
   ]
  },
  {
   "cell_type": "code",
   "execution_count": 102,
   "metadata": {},
   "outputs": [
    {
     "name": "stderr",
     "output_type": "stream",
     "text": [
      "c:\\Users\\leand\\FYS-STK\\FYS-STK3155-project-2\\feedforward_nn.py:70: RuntimeWarning: overflow encountered in exp\n",
      "  return 1 / (1 + np.exp(-z))\n"
     ]
    }
   ],
   "source": [
    "# Perform grid search on learning rate for rmsprop\n",
    "# TODO: Must be done for much higher iterations\n",
    "lrrange = np.logspace(-5, 0, 10)\n",
    "best_lr, best_acc, accuracy_val = optimal_lr_neural_network(X_train, z_train, X_val, z_val, [n, 20, 10, 1], 1, lrrange, optmode=\"rmsprop\", avg_num=40, max_iter=80, eta=0.01, activation=\"leaky_relu\")\n"
   ]
  },
  {
   "cell_type": "code",
   "execution_count": 103,
   "metadata": {},
   "outputs": [
    {
     "data": {
      "image/png": "[encoded data removed]",
      "text/plain": [
       "<Figure size 432x288 with 1 Axes>"
      ]
     },
     "metadata": {
      "needs_background": "light"
     },
     "output_type": "display_data"
    },
    {
     "name": "stdout",
     "output_type": "stream",
     "text": [
      "Best learning rate: 5.99e-03\n"
     ]
    }
   ],
   "source": [
    "# Plot accuracy vs. learning rate for rmsprop\n",
    "plt.semilogx(lrrange, accuracy_val)\n",
    "plt.xlabel(\"Learning rate\")\n",
    "plt.ylabel(\"Accuracy\")\n",
    "plt.show()\n",
    "\n",
    "# Print best learning rate for rmsprop\n",
    "print(f\"Best learning rate: {best_lr:.2e}\")"
   ]
  },
  {
   "cell_type": "markdown",
   "metadata": {},
   "source": [
    "We see that the optimal accuracy is reached with a learning rate of around 0.006, and will use this going forward."
   ]
  },
  {
   "cell_type": "code",
   "execution_count": null,
   "metadata": {},
   "outputs": [],
   "source": []
  }
 ],
 "metadata": {
  "kernelspec": {
   "display_name": "Python 3.8.10 64-bit",
   "language": "python",
   "name": "python3"
  },
  "language_info": {
   "codemirror_mode": {
    "name": "ipython",
    "version": 3
   },
   "file_extension": ".py",
   "mimetype": "text/x-python",
   "name": "python",
   "nbconvert_exporter": "python",
   "pygments_lexer": "ipython3",
   "version": "3.8.10"
  },
  "orig_nbformat": 4,
  "vscode": {
   "interpreter": {
    "hash": "e0bcd3d39e2b0d2bcb7e5b5a8ab013b8440450c3ee714dd347ea2524e3e0a92a"
   }
  }
 },
 "nbformat": 4,
 "nbformat_minor": 2
}
