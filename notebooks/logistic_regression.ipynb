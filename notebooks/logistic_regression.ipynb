{
 "cells": [
  {
   "cell_type": "markdown",
   "metadata": {},
   "source": [
    "# Logistic regression exploration"
   ]
  },
  {
   "cell_type": "markdown",
   "metadata": {},
   "source": [
    "First, I will use sklearns logistic regression to benchmark"
   ]
  },
  {
   "cell_type": "code",
   "execution_count": 1,
   "metadata": {},
   "outputs": [],
   "source": [
    "import numpy as np\n",
    "import matplotlib.pyplot as plt\n",
    "\n",
    "from sklearn.preprocessing import MinMaxScaler\n",
    "\n",
    "from gradient_descent import GradientDescent\n",
    "from regression_cost_funcs import LogisticCost\n"
   ]
  },
  {
   "cell_type": "code",
   "execution_count": 2,
   "metadata": {},
   "outputs": [
    {
     "name": "stdout",
     "output_type": "stream",
     "text": [
      "[[4.09209144 4.15408643]]\n",
      "[-5.48300656]\n",
      "Prediction score:  0.917312\n"
     ]
    },
    {
     "data": {
      "image/png": "[encoded data removed]",
      "text/plain": [
       "<Figure size 288x216 with 1 Axes>"
      ]
     },
     "metadata": {
      "needs_background": "light"
     },
     "output_type": "display_data"
    }
   ],
   "source": [
    "from data_generation import generate_data_binary\n",
    "\n",
    "X, y = generate_data_binary(1000, seed=67)\n",
    "\n",
    "# Perform logistic regression using sklearn\n",
    "from sklearn.linear_model import LogisticRegression\n",
    "clf = LogisticRegression(random_state=0, solver='lbfgs', multi_class='multinomial').fit(X, y.ravel())\n",
    "print(clf.coef_)\n",
    "print(clf.intercept_)\n",
    "\n",
    "# Create a mesh to plot in\n",
    "h = .002  # step size in the mesh\n",
    "x_min, x_max = 0, 1\n",
    "y_min, y_max = 0, 1\n",
    "xx, yy = np.meshgrid(np.arange(x_min, x_max, h), np.arange(y_min, y_max, h))\n",
    "\n",
    "# Plot the decision boundary. For that, we will assign a color to each\n",
    "# point in the mesh [x_min, x_max]x[y_min, y_max].\n",
    "design = np.c_[xx.ravel(), yy.ravel()]\n",
    "Z = clf.predict(design)\n",
    "Z = Z.reshape(xx.shape)\n",
    "\n",
    "def f(X):\n",
    "    val = []\n",
    "    r, c = X.shape\n",
    "    for i in range(r):\n",
    "        if X[i, 0] > 0.5 and X[i, 1] > 0.5:\n",
    "            val.append(1)\n",
    "        else:\n",
    "            val.append(0)\n",
    "    return np.array(val).reshape(-1, 1)\n",
    "true_Z = f(design)\n",
    "# print prediction score\n",
    "print(\"Prediction score: \", clf.score(design, true_Z))\n",
    "\n",
    "plt.figure(1, figsize=(4, 3))\n",
    "plt.pcolormesh(xx, yy, Z, cmap=plt.cm.Paired)\n",
    "plt.show()\n"
   ]
  },
  {
   "cell_type": "code",
   "execution_count": 3,
   "metadata": {},
   "outputs": [
    {
     "data": {
      "image/png": "[encoded data removed]",
      "text/plain": [
       "<Figure size 288x216 with 1 Axes>"
      ]
     },
     "metadata": {
      "needs_background": "light"
     },
     "output_type": "display_data"
    }
   ],
   "source": [
    "# Plot the true function \n",
    "\n",
    "plt.figure(1, figsize=(4, 3))\n",
    "plt.pcolormesh(xx, yy, true_Z.reshape(xx.shape), cmap=plt.cm.Paired)\n",
    "plt.show()\n"
   ]
  },
  {
   "cell_type": "code",
   "execution_count": 4,
   "metadata": {},
   "outputs": [],
   "source": [
    "#Now we will use use gradient descent to find the optimal beta values\n",
    "\n",
    "X, y = generate_data_binary(1000, seed=67, add_col_ones=True)\n",
    "# Initialize beta\n",
    "beta = np.array([0, 0, 0]).reshape(-1, 1)\n",
    "\n",
    "# Initialize cost function wrapper\n",
    "model = LogisticCost()\n",
    "\n",
    "# Initialize gradient descent\n",
    "gd = GradientDescent()\n",
    "\n",
    "# Run gradient descent\n",
    "beta = gd.train(X, beta, y, model, learning_rate=0.01, n_epochs=1000)"
   ]
  },
  {
   "cell_type": "code",
   "execution_count": 5,
   "metadata": {},
   "outputs": [
    {
     "name": "stdout",
     "output_type": "stream",
     "text": [
      "Prediction score: 0.925\n"
     ]
    }
   ],
   "source": [
    "#plot the decision boundary\n",
    "y_pred = model.predict_class(X, beta)\n",
    "\n",
    "print(\"Prediction score:\", np.count_nonzero(y == y_pred) / len(y))"
   ]
  },
  {
   "cell_type": "code",
   "execution_count": 6,
   "metadata": {},
   "outputs": [
    {
     "data": {
      "image/png": "[encoded data removed]",
      "text/plain": [
       "<Figure size 288x216 with 1 Axes>"
      ]
     },
     "metadata": {
      "needs_background": "light"
     },
     "output_type": "display_data"
    }
   ],
   "source": [
    "# Plot the decision boundary.\n",
    "\n",
    "xmin, xmax = 0, 1\n",
    "ymin, ymax = 0, 1\n",
    "xx, yy = np.meshgrid(np.arange(xmin, xmax, h), np.arange(ymin, ymax, h))\n",
    "n = xx.size\n",
    "design = np.c_[np.ones(n), xx.ravel(), yy.ravel()]\n",
    "Z = model.predict_class(design, beta)\n",
    "Z = Z.reshape(xx.shape)\n",
    "\n",
    "plt.figure(1, figsize=(4, 3))\n",
    "plt.pcolormesh(xx, yy, Z, cmap=plt.cm.Paired)\n",
    "plt.show()"
   ]
  },
  {
   "cell_type": "markdown",
   "metadata": {},
   "source": [
    "## Wisconsin Cancer Data"
   ]
  },
  {
   "cell_type": "code",
   "execution_count": 7,
   "metadata": {},
   "outputs": [],
   "source": [
    "import numpy as np\n",
    "import matplotlib.pyplot as plt\n",
    "\n",
    "from sklearn.linear_model import LogisticRegression\n",
    "\n",
    "from feedforward_nn import NeuralNetwork\n",
    "from gradient_descent import GradientDescent\n",
    "\n"
   ]
  },
  {
   "cell_type": "code",
   "execution_count": 8,
   "metadata": {},
   "outputs": [],
   "source": [
    "def gradient_descent_execution(X, w0, z, model, mode=\"normal\", max_iter = 200, eta = 0.01, batch_size = 10):\n",
    "    store_extra = True\n",
    "\n",
    "    gd = GradientDescent(batch_size=batch_size, store_extra=store_extra, mode=mode)\n",
    "    w = gd.train(X, w0, z, model, eta, max_iter)\n",
    "    return w, gd\n"
   ]
  },
  {
   "cell_type": "code",
   "execution_count": 9,
   "metadata": {},
   "outputs": [
    {
     "name": "stdout",
     "output_type": "stream",
     "text": [
      "X_train shape:  (364, 30)\n",
      "z_train shape:  (364,)\n",
      "X_test shape:  (114, 30)\n",
      "z_test shape:  (114,)\n",
      "X_val shape:  (91, 30)\n",
      "z_val shape:  (91,)\n",
      "X_TR shape:  (455, 30)\n",
      "z_TR shape:  (455,)\n"
     ]
    }
   ],
   "source": [
    "# Load data\n",
    "X_test = np.load(\"data/wbc/X_test.npy\") # Test set\n",
    "X_TR = np.load(\"data/wbc/X_TR.npy\") # Whole training set\n",
    "X_val = np.load(\"data/wbc/X_val.npy\") # Validation set\n",
    "X_train = np.load(\"data/wbc/X_train.npy\") # Training set after validation split\n",
    "z_test = np.load(\"data/wbc/z_test.npy\") # Test set\n",
    "z_TR = np.load(\"data/wbc/z_TR.npy\") # Whole training set\n",
    "z_val = np.load(\"data/wbc/z_val.npy\") # Validation set\n",
    "z_train = np.load(\"data/wbc/z_train.npy\") # Training set after validation split\n",
    "\n",
    "\n",
    "# Scale data\n",
    "from sklearn.preprocessing import MinMaxScaler\n",
    "scaler = MinMaxScaler()\n",
    "\n",
    "X_train = scaler.fit_transform(X_train)\n",
    "X_test = scaler.transform(X_test)\n",
    "X_val = scaler.transform(X_val)\n",
    "X_TR = scaler.transform(X_TR)\n",
    "\n",
    "\n",
    "print(\"X_train shape: \", X_train.shape)\n",
    "print(\"z_train shape: \", z_train.shape)\n",
    "print(\"X_test shape: \", X_test.shape)\n",
    "print(\"z_test shape: \", z_test.shape)\n",
    "print(\"X_val shape: \", X_val.shape)\n",
    "print(\"z_val shape: \", z_val.shape)\n",
    "print(\"X_TR shape: \", X_TR.shape)\n",
    "print(\"z_TR shape: \", z_TR.shape)"
   ]
  },
  {
   "cell_type": "markdown",
   "metadata": {},
   "source": [
    "Estimate using sklearn's logistic regression implementation"
   ]
  },
  {
   "cell_type": "code",
   "execution_count": 10,
   "metadata": {},
   "outputs": [
    {
     "name": "stdout",
     "output_type": "stream",
     "text": [
      "Logistic regression score:  0.9736842105263158\n"
     ]
    }
   ],
   "source": [
    "logistic = LogisticRegression()\n",
    "logistic.fit(X_TR, z_TR.ravel())\n",
    "print(\"Logistic regression score: \", logistic.score(X_test, z_test))"
   ]
  },
  {
   "cell_type": "markdown",
   "metadata": {},
   "source": [
    "Now, we repeat the analysis using our own logistic regression implementation (using stochastic gradient descent)"
   ]
  },
  {
   "cell_type": "code",
   "execution_count": 11,
   "metadata": {},
   "outputs": [
    {
     "name": "stdout",
     "output_type": "stream",
     "text": [
      "X_train shape:  (364, 31)\n",
      "z_train shape:  (364, 1)\n",
      "X_test shape:  (114, 31)\n",
      "z_test shape:  (114, 1)\n",
      "X_val shape:  (91, 31)\n",
      "z_val shape:  (91, 1)\n",
      "X_TR shape:  (455, 31)\n",
      "z_TR shape:  (455, 1)\n"
     ]
    }
   ],
   "source": [
    "# Load data\n",
    "X_test = np.load(\"data/wbc/X_test.npy\") # Test set\n",
    "X_TR = np.load(\"data/wbc/X_TR.npy\") # Whole training set\n",
    "X_val = np.load(\"data/wbc/X_val.npy\") # Validation set\n",
    "X_train = np.load(\"data/wbc/X_train.npy\") # Training set after validation split\n",
    "z_test = np.load(\"data/wbc/z_test.npy\") # Test set\n",
    "z_TR = np.load(\"data/wbc/z_TR.npy\") # Whole training set\n",
    "z_val = np.load(\"data/wbc/z_val.npy\") # Validation set\n",
    "z_train = np.load(\"data/wbc/z_train.npy\") # Training set after validation split\n",
    "\n",
    "\n",
    "# Scale data\n",
    "scaler = MinMaxScaler()\n",
    "\n",
    "X_train = scaler.fit_transform(X_train)\n",
    "X_test = scaler.transform(X_test)\n",
    "X_val = scaler.transform(X_val)\n",
    "X_TR = scaler.transform(X_TR)\n",
    "\n",
    "z_train = z_train.reshape(-1, 1)\n",
    "z_test = z_test.reshape(-1, 1)\n",
    "z_val = z_val.reshape(-1, 1)\n",
    "z_TR = z_TR.reshape(-1, 1)\n",
    "\n",
    "# Add column of ones to design matrix\n",
    "X_train = np.c_[np.ones(X_train.shape[0]), X_train]\n",
    "X_test = np.c_[np.ones(X_test.shape[0]), X_test]\n",
    "X_val = np.c_[np.ones(X_val.shape[0]), X_val]\n",
    "X_TR = np.c_[np.ones(X_TR.shape[0]), X_TR]\n",
    "\n",
    "print(\"X_train shape: \", X_train.shape)\n",
    "print(\"z_train shape: \", z_train.shape)\n",
    "print(\"X_test shape: \", X_test.shape)\n",
    "print(\"z_test shape: \", z_test.shape)\n",
    "print(\"X_val shape: \", X_val.shape)\n",
    "print(\"z_val shape: \", z_val.shape)\n",
    "print(\"X_TR shape: \", X_TR.shape)\n",
    "print(\"z_TR shape: \", z_TR.shape)\n",
    "\n",
    "n = X_train.shape[1]"
   ]
  },
  {
   "cell_type": "code",
   "execution_count": 12,
   "metadata": {},
   "outputs": [
    {
     "data": {
      "image/png": "[encoded data removed]",
      "text/plain": [
       "<Figure size 432x288 with 1 Axes>"
      ]
     },
     "metadata": {
      "needs_background": "light"
     },
     "output_type": "display_data"
    },
    {
     "name": "stdout",
     "output_type": "stream",
     "text": [
      "Final cross-entropy cost:  25.63529203959107\n"
     ]
    }
   ],
   "source": [
    "# Initialize weights\n",
    "w0 = np.random.randn(n, 1)\n",
    "\n",
    "# Initialize logistic regression model\n",
    "model = LogisticCost()\n",
    "\n",
    "# Run gradient descent\n",
    "w, gd = gradient_descent_execution(X_train, w0, z_train, model, mode=\"normal\", max_iter = 1000, eta = 0.01)\n",
    "\n",
    "\n",
    "#print(gd.costs)\n",
    "# Plot the cost function\n",
    "plt.plot(gd.costs)\n",
    "plt.show()\n",
    "\n",
    "print(\"Final cross-entropy cost: \", gd.costs[-1])"
   ]
  },
  {
   "cell_type": "code",
   "execution_count": 13,
   "metadata": {},
   "outputs": [],
   "source": [
    "def prediction_score(z, z_pred):\n",
    "    return np.count_nonzero(z.reshape(-1, 1) == z_pred.reshape(-1, 1)) / z.size"
   ]
  },
  {
   "cell_type": "code",
   "execution_count": 14,
   "metadata": {},
   "outputs": [
    {
     "name": "stdout",
     "output_type": "stream",
     "text": [
      "Prediction score: 0.9824561403508771\n"
     ]
    }
   ],
   "source": [
    "z_pred = model.predict_class(X_test, w)\n",
    "print(\"Prediction score:\", prediction_score(z_test, z_pred))"
   ]
  },
  {
   "cell_type": "markdown",
   "metadata": {},
   "source": [
    "Using SDG without any further alterations gives us an impressive prediction score of 98.2%."
   ]
  },
  {
   "cell_type": "markdown",
   "metadata": {},
   "source": [
    "## Classification as a Function of Hyper-Parameters"
   ]
  },
  {
   "cell_type": "markdown",
   "metadata": {},
   "source": [
    "First, we study the loss as a function of learning rate"
   ]
  },
  {
   "cell_type": "code",
   "execution_count": 15,
   "metadata": {},
   "outputs": [],
   "source": [
    "costs = []\n",
    "pred_scores = []\n",
    "\n",
    "\n",
    "etas = np.linspace(0.0001, 0.1, 100)\n",
    "\n",
    "for eta in etas:\n",
    "    w, gd = gradient_descent_execution(X_train, w0, z_train, model, mode=\"normal\", max_iter = 200, eta = eta)\n",
    "    costs.append(gd.costs[-1])\n",
    "    z_pred = model.predict_class(X_test, w)\n",
    "    pred_scores.append(prediction_score(z_test, z_pred))"
   ]
  },
  {
   "cell_type": "code",
   "execution_count": 16,
   "metadata": {},
   "outputs": [
    {
     "data": {
      "image/png": "[encoded data removed]",
      "text/plain": [
       "<Figure size 432x288 with 1 Axes>"
      ]
     },
     "metadata": {
      "needs_background": "light"
     },
     "output_type": "display_data"
    },
    {
     "data": {
      "image/png": "[encoded data removed]",
      "text/plain": [
       "<Figure size 432x288 with 1 Axes>"
      ]
     },
     "metadata": {
      "needs_background": "light"
     },
     "output_type": "display_data"
    }
   ],
   "source": [
    "plt.plot(etas, costs)\n",
    "plt.show()\n",
    "\n",
    "plt.plot(etas, pred_scores)\n",
    "plt.show()"
   ]
  },
  {
   "cell_type": "code",
   "execution_count": 17,
   "metadata": {},
   "outputs": [
    {
     "name": "stdout",
     "output_type": "stream",
     "text": [
      "[237.265730425904, 81.20944965676028, 62.803744111810516, 54.666359372319164, 49.7472580283348, 46.32926895860865, 43.76267592998157, 41.7452025064936, 40.09414142464831, 38.72126369572082, 37.54819209986674, 36.53730676623425, 35.64881552133431, 34.87917199235822, 34.16535062618067, 33.53695038356549, 32.96754057459566, 32.45532995920199, 31.996007085128923, 31.54712564610285, 31.14425718892298, 30.77544634387879, 30.42938458367872, 30.107428843497615, 29.8241479916312, 29.52277435767673, 29.258962356011445, 29.017447703912566, 28.78774461937253, 28.55225656182217, 28.347031814780006, 28.14965823813104, 27.94554115634483, 27.795846787511984, 27.59034998073879, 27.415210460734414, 27.304622909937343, 27.131045797602177, 26.994418413353877, 26.820370028586893, 26.68646031785223, 26.56683288211432, 26.416121880322834, 26.366006379070043, 26.204578451612583, 26.099712387402093, 25.955247199100505, 25.84599803170712, 25.772688798487174, 25.653159597477835, 25.537295465406118, 25.498353463372915, 25.363257286390382, 25.290232902116713, 25.227876929544045, 25.126800394529617, 25.133892593271774, 24.94899224507324, 24.845667692364195, 24.783149974220528, 24.896244928652628, 24.62226650436007, 24.71235366088635, 24.60562444264152, 24.425135970975237, 24.384444057594592, 24.440111368893426, 24.35366783271212, 24.234784196296843, 24.076032557334543, 24.006905824865928, 24.020663238243813, 24.28272768312157, 23.90683109914266, 23.840449739589424, 24.007990649100094, 23.672976324317872, 23.979434663046973, 23.625409577284326, 23.48913460755913, 23.536085273758353, 23.692157093145706, 23.82653863759372, 23.307441273282535, 23.247151455983293, 23.289641332371243, 23.230198848449422, 23.10312150247016, 23.077309994513687, 23.036409706493508, 23.02315194979446, 22.957070865147706, 22.89108069554699, 23.301193134002812, 22.902844699493073, 22.835943321555153, 23.23579595210767, 22.74918639016829, 22.628474776935985, 22.727322027813535]\n"
     ]
    }
   ],
   "source": [
    "print(costs)"
   ]
  },
  {
   "cell_type": "markdown",
   "metadata": {},
   "source": [
    "As we can see, a higher learning rate leads to faster convergence given the few epochs provided. However, we also note that SDG starts diverging at $\\eta \\approx 0.1$"
   ]
  },
  {
   "cell_type": "markdown",
   "metadata": {},
   "source": [
    "We repeat for a higher number of epochs"
   ]
  },
  {
   "cell_type": "code",
   "execution_count": 18,
   "metadata": {},
   "outputs": [],
   "source": [
    "costs = []\n",
    "pred_scores = []\n",
    "\n",
    "\n",
    "etas = np.linspace(0.0001, 0.1, 100)\n",
    "\n",
    "for eta in etas:\n",
    "    w, gd = gradient_descent_execution(X_train, w0, z_train, model, mode=\"normal\", max_iter = 1000, eta = eta)\n",
    "    costs.append(gd.costs[-1])\n",
    "    z_pred = model.predict_class(X_test, w)\n",
    "    pred_scores.append(prediction_score(z_test, z_pred))"
   ]
  },
  {
   "cell_type": "code",
   "execution_count": 19,
   "metadata": {},
   "outputs": [
    {
     "data": {
      "image/png": "[encoded data removed]",
      "text/plain": [
       "<Figure size 432x288 with 1 Axes>"
      ]
     },
     "metadata": {
      "needs_background": "light"
     },
     "output_type": "display_data"
    },
    {
     "data": {
      "image/png": "[encoded data removed]",
      "text/plain": [
       "<Figure size 432x288 with 1 Axes>"
      ]
     },
     "metadata": {
      "needs_background": "light"
     },
     "output_type": "display_data"
    }
   ],
   "source": [
    "plt.plot(etas, costs)\n",
    "plt.show()\n",
    "\n",
    "plt.plot(etas, pred_scores)\n",
    "plt.show()"
   ]
  },
  {
   "cell_type": "code",
   "execution_count": 20,
   "metadata": {},
   "outputs": [
    {
     "name": "stdout",
     "output_type": "stream",
     "text": [
      "[117.27691571764765, 45.250225451655375, 37.14998111333911, 33.33080619011323, 31.024425175917727, 29.45091861516115, 28.291093757734394, 27.391198120784228, 26.662980166980162, 26.060855385080107, 25.54427778412712, 25.0975598173307, 24.704961442513806, 24.35222354103004, 24.03674211457607, 23.74620589989664, 23.484992921824368, 23.23854195806646, 23.01194784919057, 22.795195267778325, 22.593901382585248, 22.40558877204659, 22.226679154515317, 22.05946670467808, 21.895930649037396, 21.743440167795892, 21.597653805935835, 21.456893293474373, 21.328366198089732, 21.190946363317813, 21.075776905529573, 20.940274161418237, 20.821463795476706, 20.708947321250278, 20.644325158987478, 20.50231382314815, 20.38879634070388, 20.288783535095106, 20.19148304805313, 20.09567745518555, 20.00637755557157, 19.913262923000126, 19.824838041401783, 19.744280521326584, 19.670676519275926, 19.57864253692476, 19.497821200267072, 19.420737429306975, 19.341843244287286, 19.280052926062925, 19.22371715053425, 19.132979413843053, 19.052364668783508, 19.028061582051293, 18.91917606322267, 18.85343865052011, 18.784947995340623, 18.71762015177795, 18.658939257576673, 18.607838972922202, 18.544912469663615, 18.60988273134378, 18.418850991344087, 18.359761903476077, 18.35312191898749, 18.29217468144116, 18.19007002857507, 18.14202855711992, 18.085903564022935, 18.132522322495447, 17.99470942572469, 17.923821305420933, 17.874663605519558, 17.825728380795766, 17.77632182097843, 17.756654508408104, 17.6876831067396, 17.67683851704867, 17.589183549717802, 17.61164397349806, 17.566110562617933, 17.53487265390565, 17.417693138666806, 17.37456835772327, 17.316434376246256, 17.291299779636805, 17.30769710232284, 17.20445701752685, 17.174991135312393, 17.104986641708464, 17.07761826581891, 17.022287370908323, 16.986683970998204, 17.142249831327366, 17.15213309306413, 16.897775475011144, 17.052030014559563, 16.81352518579579, 16.879710550302363, 16.92051727923448]\n"
     ]
    }
   ],
   "source": [
    "print(costs)"
   ]
  },
  {
   "cell_type": "code",
   "execution_count": 21,
   "metadata": {},
   "outputs": [],
   "source": [
    "w, gd = gradient_descent_execution(X_train, w0, z_train, model, mode=\"normal\", max_iter = 1000, eta = 0.01)"
   ]
  },
  {
   "cell_type": "code",
   "execution_count": 22,
   "metadata": {},
   "outputs": [
    {
     "name": "stdout",
     "output_type": "stream",
     "text": [
      "[415.60976531 281.22197942 236.9725439  ...  25.64500906  25.64021549\n",
      "  25.63606106]\n"
     ]
    }
   ],
   "source": [
    "print(gd.costs)"
   ]
  },
  {
   "cell_type": "code",
   "execution_count": 36,
   "metadata": {},
   "outputs": [],
   "source": [
    "costs = []\n",
    "pred_scores = []\n",
    "\n",
    "\n",
    "etas = np.linspace(1e-2, 1, 10)\n",
    "\n",
    "for eta in etas:\n",
    "    w, gd = gradient_descent_execution(X_train, w0, z_train, model, mode=\"normal\", max_iter = 1000, eta = eta)\n",
    "    costs.append(gd.costs[-1])\n",
    "    z_pred = model.predict_class(X_test, w)\n",
    "    pred_scores.append(prediction_score(z_test, z_pred))"
   ]
  },
  {
   "cell_type": "code",
   "execution_count": 37,
   "metadata": {},
   "outputs": [
    {
     "name": "stdout",
     "output_type": "stream",
     "text": [
      "[0.01 0.12 0.23 0.34 0.45 0.56 0.67 0.78 0.89 1.  ]\n"
     ]
    }
   ],
   "source": [
    "print(etas)"
   ]
  },
  {
   "cell_type": "code",
   "execution_count": 56,
   "metadata": {},
   "outputs": [
    {
     "name": "stdout",
     "output_type": "stream",
     "text": [
      "[4.15609765e+02 1.23646613e+04 6.07899889e+02 ... 4.36762317e+00\n",
      " 7.10512713e+01 1.95497705e+01]\n"
     ]
    },
    {
     "data": {
      "image/png": "[encoded data removed]",
      "text/plain": [
       "<Figure size 432x288 with 1 Axes>"
      ]
     },
     "metadata": {
      "needs_background": "light"
     },
     "output_type": "display_data"
    }
   ],
   "source": [
    "w, gd = gradient_descent_execution(X_train, w0, z_train, model, mode=\"normal\", max_iter = 1000, eta = 10)\n",
    "plt.plot(gd.costs)\n",
    "print(gd.costs)"
   ]
  },
  {
   "cell_type": "code",
   "execution_count": 52,
   "metadata": {},
   "outputs": [
    {
     "name": "stdout",
     "output_type": "stream",
     "text": [
      "[415.60976531  58.77070503  48.1477514  ...  13.84841982  11.84211697\n",
      "  15.53667816]\n"
     ]
    },
    {
     "data": {
      "image/png": "[encoded data removed]",
      "text/plain": [
       "<Figure size 432x288 with 1 Axes>"
      ]
     },
     "metadata": {
      "needs_background": "light"
     },
     "output_type": "display_data"
    }
   ],
   "source": [
    "w, gd = gradient_descent_execution(X_train, w0, z_train, model, mode=\"normal\", max_iter = 1000, eta = 0.4)\n",
    "plt.plot(gd.costs)\n",
    "print(gd.costs)"
   ]
  },
  {
   "cell_type": "code",
   "execution_count": 38,
   "metadata": {},
   "outputs": [
    {
     "data": {
      "image/png": "[encoded data removed]",
      "text/plain": [
       "<Figure size 432x288 with 1 Axes>"
      ]
     },
     "metadata": {
      "needs_background": "light"
     },
     "output_type": "display_data"
    },
    {
     "data": {
      "image/png": "[encoded data removed]",
      "text/plain": [
       "<Figure size 432x288 with 1 Axes>"
      ]
     },
     "metadata": {
      "needs_background": "light"
     },
     "output_type": "display_data"
    }
   ],
   "source": [
    "plt.semilogx(etas, costs)\n",
    "plt.show()\n",
    "\n",
    "plt.semilogx(etas, pred_scores)\n",
    "plt.show()"
   ]
  }
 ],
 "metadata": {
  "kernelspec": {
   "display_name": "Python 3.10.6 64-bit",
   "language": "python",
   "name": "python3"
  },
  "language_info": {
   "codemirror_mode": {
    "name": "ipython",
    "version": 3
   },
   "file_extension": ".py",
   "mimetype": "text/x-python",
   "name": "python",
   "nbconvert_exporter": "python",
   "pygments_lexer": "ipython3",
   "version": "3.10.6"
  },
  "orig_nbformat": 4,
  "vscode": {
   "interpreter": {
    "hash": "e7370f93d1d0cde622a1f8e1c04877d8463912d04d973331ad4851f04de6915a"
   }
  }
 },
 "nbformat": 4,
 "nbformat_minor": 2
}
