{
 "cells": [
  {
   "cell_type": "markdown",
   "metadata": {},
   "source": [
    "# Logistic regression exploration"
   ]
  },
  {
   "cell_type": "markdown",
   "metadata": {},
   "source": [
    "First, I will use sklearns logistic regression to benchmark"
   ]
  },
  {
   "cell_type": "code",
   "execution_count": 1,
   "metadata": {},
   "outputs": [],
   "source": [
    "import numpy as np\n",
    "import matplotlib.pyplot as plt\n",
    "\n",
    "from gradient_descent import GradientDescent\n",
    "from regression_cost_funcs import LogisticCost"
   ]
  },
  {
   "cell_type": "code",
   "execution_count": 2,
   "metadata": {},
   "outputs": [
    {
     "name": "stdout",
     "output_type": "stream",
     "text": [
      "[[4.09209144 4.15408643]]\n",
      "[-5.48300656]\n",
      "Prediction score:  0.917312\n"
     ]
    },
    {
     "data": {
      "image/png": "[encoded data removed]",
      "text/plain": [
       "<Figure size 288x216 with 1 Axes>"
      ]
     },
     "metadata": {
      "needs_background": "light"
     },
     "output_type": "display_data"
    }
   ],
   "source": [
    "from data_generation import generate_data_binary\n",
    "\n",
    "X, y = generate_data_binary(1000, seed=67)\n",
    "\n",
    "# Perform logistic regression using sklearn\n",
    "from sklearn.linear_model import LogisticRegression\n",
    "clf = LogisticRegression(random_state=0, solver='lbfgs', multi_class='multinomial').fit(X, y.ravel())\n",
    "print(clf.coef_)\n",
    "print(clf.intercept_)\n",
    "\n",
    "# Create a mesh to plot in\n",
    "h = .002  # step size in the mesh\n",
    "x_min, x_max = 0, 1\n",
    "y_min, y_max = 0, 1\n",
    "xx, yy = np.meshgrid(np.arange(x_min, x_max, h), np.arange(y_min, y_max, h))\n",
    "\n",
    "# Plot the decision boundary. For that, we will assign a color to each\n",
    "# point in the mesh [x_min, x_max]x[y_min, y_max].\n",
    "design = np.c_[xx.ravel(), yy.ravel()]\n",
    "Z = clf.predict(design)\n",
    "Z = Z.reshape(xx.shape)\n",
    "\n",
    "def f(X):\n",
    "    val = []\n",
    "    r, c = X.shape\n",
    "    for i in range(r):\n",
    "        if X[i, 0] > 0.5 and X[i, 1] > 0.5:\n",
    "            val.append(1)\n",
    "        else:\n",
    "            val.append(0)\n",
    "    return np.array(val).reshape(-1, 1)\n",
    "true_Z = f(design)\n",
    "# print prediction score\n",
    "print(\"Prediction score: \", clf.score(design, true_Z))\n",
    "\n",
    "plt.figure(1, figsize=(4, 3))\n",
    "plt.pcolormesh(xx, yy, Z, cmap=plt.cm.Paired)\n",
    "plt.show()\n"
   ]
  },
  {
   "cell_type": "code",
   "execution_count": 3,
   "metadata": {},
   "outputs": [
    {
     "data": {
      "image/png": "[encoded data removed]",
      "text/plain": [
       "<Figure size 288x216 with 1 Axes>"
      ]
     },
     "metadata": {
      "needs_background": "light"
     },
     "output_type": "display_data"
    }
   ],
   "source": [
    "# Plot the true function \n",
    "\n",
    "plt.figure(1, figsize=(4, 3))\n",
    "plt.pcolormesh(xx, yy, true_Z.reshape(xx.shape), cmap=plt.cm.Paired)\n",
    "plt.show()\n"
   ]
  },
  {
   "cell_type": "code",
   "execution_count": 20,
   "metadata": {},
   "outputs": [],
   "source": [
    "#Now we will use use gradient descent to find the optimal beta values\n",
    "\n",
    "X, y = generate_data_binary(1000, seed=67, add_col_ones=True)\n",
    "# Initialize beta\n",
    "beta = np.array([0, 0, 0]).reshape(-1, 1)\n",
    "\n",
    "# Initialize cost function wrapper\n",
    "model = LogisticCost()\n",
    "\n",
    "# Initialize gradient descent\n",
    "gd = GradientDescent()\n",
    "\n",
    "# Run gradient descent\n",
    "beta = gd.train(X, beta, y, model, learning_rate=0.01, n_epochs=1000)"
   ]
  },
  {
   "cell_type": "code",
   "execution_count": 21,
   "metadata": {},
   "outputs": [
    {
     "name": "stdout",
     "output_type": "stream",
     "text": [
      "Prediction score: 0.925\n"
     ]
    }
   ],
   "source": [
    "#plot the decision boundary\n",
    "y_pred = model.predict_class(X, beta)\n",
    "\n",
    "print(\"Prediction score:\", np.count_nonzero(y == y_pred) / len(y))"
   ]
  },
  {
   "cell_type": "code",
   "execution_count": 22,
   "metadata": {},
   "outputs": [
    {
     "data": {
      "image/png": "[encoded data removed]",
      "text/plain": [
       "<Figure size 288x216 with 1 Axes>"
      ]
     },
     "metadata": {
      "needs_background": "light"
     },
     "output_type": "display_data"
    }
   ],
   "source": [
    "# Plot the decision boundary.\n",
    "\n",
    "xmin, xmax = 0, 1\n",
    "ymin, ymax = 0, 1\n",
    "xx, yy = np.meshgrid(np.arange(xmin, xmax, h), np.arange(ymin, ymax, h))\n",
    "n = xx.size\n",
    "design = np.c_[np.ones(n), xx.ravel(), yy.ravel()]\n",
    "Z = model.predict_class(design, beta)\n",
    "Z = Z.reshape(xx.shape)\n",
    "\n",
    "plt.figure(1, figsize=(4, 3))\n",
    "plt.pcolormesh(xx, yy, Z, cmap=plt.cm.Paired)\n",
    "plt.show()"
   ]
  }
 ],
 "metadata": {
  "kernelspec": {
   "display_name": "Python 3.10.6 64-bit",
   "language": "python",
   "name": "python3"
  },
  "language_info": {
   "codemirror_mode": {
    "name": "ipython",
    "version": 3
   },
   "file_extension": ".py",
   "mimetype": "text/x-python",
   "name": "python",
   "nbconvert_exporter": "python",
   "pygments_lexer": "ipython3",
   "version": "3.10.6"
  },
  "orig_nbformat": 4,
  "vscode": {
   "interpreter": {
    "hash": "e7370f93d1d0cde622a1f8e1c04877d8463912d04d973331ad4851f04de6915a"
   }
  }
 },
 "nbformat": 4,
 "nbformat_minor": 2
}
