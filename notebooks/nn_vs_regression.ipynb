{
 "cells": [
  {
   "cell_type": "markdown",
   "metadata": {},
   "source": [
    "# Comparing FFNN with Linear Regression Performance"
   ]
  },
  {
   "cell_type": "markdown",
   "metadata": {},
   "source": [
    "In this notebook, we will compare the performance of a feedforward neural network with ridge regression for approximating 3 different functions"
   ]
  },
  {
   "cell_type": "code",
   "execution_count": 1,
   "metadata": {},
   "outputs": [],
   "source": [
    "import numpy as np\n",
    "import matplotlib.pyplot as plt\n",
    "\n",
    "from feedforward_nn import NeuralNetwork\n",
    "from regression_cost_funcs import OLSCost, RidgeCost\n",
    "from gradient_descent import GradientDescent\n",
    "\n",
    "from sklearn.model_selection import train_test_split"
   ]
  },
  {
   "cell_type": "markdown",
   "metadata": {},
   "source": [
    "## Linear function"
   ]
  },
  {
   "cell_type": "markdown",
   "metadata": {},
   "source": [
    "First, we will consider the function \n",
    "$$f(x, y) = x + 2y.$$\n",
    "We generate points $(x_i, y_i) \\in [0,1] \\times [0,1]$, and let our dependent variable be $z_i = f(x_i, y_i) + \\epsilon_i$ for $\\epsilon_i \\sim N(0, \\sigma^2)$."
   ]
  },
  {
   "cell_type": "code",
   "execution_count": 2,
   "metadata": {},
   "outputs": [],
   "source": [
    "from data_generation import linear_function, generate_data_linear"
   ]
  },
  {
   "cell_type": "code",
   "execution_count": 3,
   "metadata": {},
   "outputs": [],
   "source": [
    "N = 50\n",
    "sigma2 = 0.1\n",
    "seed = 562\n",
    "\n",
    "X, z, z_true = generate_data_linear(N, sigma2, seed)\n",
    "\n",
    "# Split into train and test\n",
    "X_train, X_test, z_train, z_test = train_test_split(X, z, test_size=0.2, random_state=seed)"
   ]
  },
  {
   "cell_type": "markdown",
   "metadata": {},
   "source": [
    "We first analyze approximate using linear gradient descent + linear regression"
   ]
  },
  {
   "cell_type": "code",
   "execution_count": 24,
   "metadata": {},
   "outputs": [],
   "source": [
    "def gradient_descent_execution(X, w0, z, model, max_iter = 200):\n",
    "    batch_size = 10\n",
    "    eta = 0.01\n",
    "    store_extra = True\n",
    "\n",
    "    gd = GradientDescent(batch_size=batch_size, store_extra=store_extra)\n",
    "    w = gd.train(X, w0, z, model, eta, max_iter)\n",
    "    return w, gd"
   ]
  },
  {
   "cell_type": "code",
   "execution_count": 5,
   "metadata": {},
   "outputs": [
    {
     "name": "stdout",
     "output_type": "stream",
     "text": [
      "Estimated coefficients: 1.1842771262917122 1.8820610863843676\n",
      "True coefficients: 1 2\n",
      "Train cost: 0.009838080677997274\n",
      "Test cost: 0.007058050744097229\n"
     ]
    }
   ],
   "source": [
    "ols = OLSCost()\n",
    "w0 = np.zeros((2, 1))\n",
    "w, gd = gradient_descent_execution(X_train, w0, z_train, ols)\n",
    "\n",
    "true_coefficients = [1, 2]\n",
    "print(\"Estimated coefficients:\", *w.flatten())\n",
    "print(\"True coefficients:\", *true_coefficients)\n",
    "print(\"Train cost:\", gd.costs[-1])\n",
    "print(\"Test cost:\", ols.cost(X_test, w, z_test))"
   ]
  },
  {
   "cell_type": "code",
   "execution_count": 6,
   "metadata": {},
   "outputs": [
    {
     "data": {
      "image/png": "[encoded data removed]",
      "text/plain": [
       "<Figure size 432x288 with 1 Axes>"
      ]
     },
     "metadata": {
      "needs_background": "light"
     },
     "output_type": "display_data"
    }
   ],
   "source": [
    "# Plot the cost function\n",
    "plt.plot(gd.costs)\n",
    "plt.show()"
   ]
  },
  {
   "cell_type": "markdown",
   "metadata": {},
   "source": [
    "Next, we repeat the analysis for a neural network with 2 hidden layers consisting of 2 nodes."
   ]
  },
  {
   "cell_type": "code",
   "execution_count": 7,
   "metadata": {},
   "outputs": [
    {
     "name": "stdout",
     "output_type": "stream",
     "text": [
      "Train cost: 0.4552947840748775\n",
      "Test cost: 0.5755323974511742\n"
     ]
    }
   ],
   "source": [
    "layers = [2, 4, 4, 4, 1]\n",
    "nn = NeuralNetwork(layers, activation=\"sigmoid\", output_activation=\"linear\", regularization=0)\n",
    "w0 = nn.wb()\n",
    "w, gd = gradient_descent_execution(X_train, w0, z_train, nn)\n",
    "\n",
    "print(\"Train cost:\", gd.costs[-1])\n",
    "print(\"Test cost:\", nn.cost(X_test, w, z_test))"
   ]
  },
  {
   "cell_type": "code",
   "execution_count": 8,
   "metadata": {},
   "outputs": [
    {
     "data": {
      "image/png": "[encoded data removed]",
      "text/plain": [
       "<Figure size 432x288 with 1 Axes>"
      ]
     },
     "metadata": {
      "needs_background": "light"
     },
     "output_type": "display_data"
    }
   ],
   "source": [
    "# Plot the cost function\n",
    "plt.plot(gd.costs)\n",
    "plt.show()"
   ]
  },
  {
   "cell_type": "markdown",
   "metadata": {},
   "source": [
    "## Franke Function"
   ]
  },
  {
   "cell_type": "markdown",
   "metadata": {},
   "source": [
    "We repeat a similar analysis for the Franke Function"
   ]
  },
  {
   "cell_type": "code",
   "execution_count": 9,
   "metadata": {},
   "outputs": [],
   "source": [
    "# TODO"
   ]
  },
  {
   "cell_type": "markdown",
   "metadata": {},
   "source": [
    "## Non-linear function: XOR"
   ]
  },
  {
   "cell_type": "code",
   "execution_count": 10,
   "metadata": {},
   "outputs": [],
   "source": [
    "from data_generation import generate_xor_data"
   ]
  },
  {
   "cell_type": "code",
   "execution_count": 11,
   "metadata": {},
   "outputs": [],
   "source": [
    "# Generate XOR data\n",
    "N = 40\n",
    "seed = 562\n",
    "\n",
    "X, z = generate_xor_data()"
   ]
  },
  {
   "cell_type": "markdown",
   "metadata": {},
   "source": [
    "We approximate the binary XOR with OLS"
   ]
  },
  {
   "cell_type": "code",
   "execution_count": 14,
   "metadata": {},
   "outputs": [
    {
     "name": "stdout",
     "output_type": "stream",
     "text": [
      "Estimated coefficients: 0.31711056954050326 0.31711056954050326\n",
      "Train cost: 0.33372810043095036\n"
     ]
    }
   ],
   "source": [
    "ols = OLSCost()\n",
    "w0 = np.zeros((2, 1))\n",
    "w, gd = gradient_descent_execution(X, w0, z, ols)\n",
    "\n",
    "print(\"Estimated coefficients:\", *w.flatten())\n",
    "print(\"Train cost:\", gd.costs[-1])"
   ]
  },
  {
   "cell_type": "code",
   "execution_count": 15,
   "metadata": {},
   "outputs": [
    {
     "data": {
      "image/png": "[encoded data removed]",
      "text/plain": [
       "<Figure size 432x288 with 1 Axes>"
      ]
     },
     "metadata": {
      "needs_background": "light"
     },
     "output_type": "display_data"
    }
   ],
   "source": [
    "# Plot the cost function\n",
    "plt.plot(gd.costs)\n",
    "plt.show()"
   ]
  },
  {
   "cell_type": "code",
   "execution_count": 17,
   "metadata": {},
   "outputs": [
    {
     "name": "stdout",
     "output_type": "stream",
     "text": [
      "[0.63422114] [0]\n",
      "[0.31711057] [1]\n",
      "[0.31711057] [1]\n",
      "[0.] [0]\n"
     ]
    }
   ],
   "source": [
    "# Print predictions\n",
    "preds = ols.predict(X, w)\n",
    "for i in range(len(preds)):\n",
    "    print(preds[i], z[i])"
   ]
  },
  {
   "cell_type": "markdown",
   "metadata": {},
   "source": [
    "Next, we approximate it with a simple neural network"
   ]
  },
  {
   "cell_type": "code",
   "execution_count": 57,
   "metadata": {},
   "outputs": [
    {
     "name": "stdout",
     "output_type": "stream",
     "text": [
      "Cost: 0.2500000554100371\n"
     ]
    }
   ],
   "source": [
    "layers = [2, 2, 2, 2, 1]\n",
    "nn = NeuralNetwork(layers, activation=\"relu\", output_activation=\"sigmoid\", regularization=0)\n",
    "\n",
    "w0 = nn.wb()\n",
    "w, gd = gradient_descent_execution(X, w0, z, nn, max_iter=2000) # Note the increased number of epochs\n",
    "\n",
    "print(\"Cost:\", gd.costs[-1])"
   ]
  },
  {
   "cell_type": "code",
   "execution_count": 58,
   "metadata": {},
   "outputs": [
    {
     "data": {
      "image/png": "[encoded data removed]",
      "text/plain": [
       "<Figure size 432x288 with 1 Axes>"
      ]
     },
     "metadata": {
      "needs_background": "light"
     },
     "output_type": "display_data"
    }
   ],
   "source": [
    "# Plot the cost function\n",
    "plt.plot(gd.costs)\n",
    "plt.show()"
   ]
  },
  {
   "cell_type": "code",
   "execution_count": 59,
   "metadata": {},
   "outputs": [
    {
     "name": "stdout",
     "output_type": "stream",
     "text": [
      "[0.50023539] [0]\n",
      "[0.50023539] [1]\n",
      "[0.50023539] [1]\n",
      "[0.50023539] [0]\n"
     ]
    }
   ],
   "source": [
    "# Print predictions\n",
    "preds = nn.predict(X, w)\n",
    "for i in range(len(preds)):\n",
    "    print(preds[i], z[i])"
   ]
  }
 ],
 "metadata": {
  "kernelspec": {
   "display_name": "Python 3.10.6 64-bit",
   "language": "python",
   "name": "python3"
  },
  "language_info": {
   "codemirror_mode": {
    "name": "ipython",
    "version": 3
   },
   "file_extension": ".py",
   "mimetype": "text/x-python",
   "name": "python",
   "nbconvert_exporter": "python",
   "pygments_lexer": "ipython3",
   "version": "3.10.6"
  },
  "orig_nbformat": 4,
  "vscode": {
   "interpreter": {
    "hash": "e7370f93d1d0cde622a1f8e1c04877d8463912d04d973331ad4851f04de6915a"
   }
  }
 },
 "nbformat": 4,
 "nbformat_minor": 2
}
